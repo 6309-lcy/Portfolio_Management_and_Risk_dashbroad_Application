{
 "cells": [
  {
   "cell_type": "markdown",
   "id": "1f47a55d",
   "metadata": {},
   "source": [
    "# 1. Load the data"
   ]
  },
  {
   "cell_type": "code",
   "execution_count": 35,
   "id": "abcedde2",
   "metadata": {},
   "outputs": [
    {
     "name": "stderr",
     "output_type": "stream",
     "text": [
      "C:\\Users\\lcy20\\AppData\\Local\\Temp\\ipykernel_32424\\2708307960.py:5: FutureWarning: YF.download() has changed argument auto_adjust default to True\n",
      "  data = yf.download(\"AAPL\", start=\"2014-08-15\", end=\"2024-08-15\", multi_level_index=False)\n",
      "[*********************100%***********************]  1 of 1 completed\n"
     ]
    },
    {
     "data": {
      "text/html": [
       "<div>\n",
       "<style scoped>\n",
       "    .dataframe tbody tr th:only-of-type {\n",
       "        vertical-align: middle;\n",
       "    }\n",
       "\n",
       "    .dataframe tbody tr th {\n",
       "        vertical-align: top;\n",
       "    }\n",
       "\n",
       "    .dataframe thead th {\n",
       "        text-align: right;\n",
       "    }\n",
       "</style>\n",
       "<table border=\"1\" class=\"dataframe\">\n",
       "  <thead>\n",
       "    <tr style=\"text-align: right;\">\n",
       "      <th></th>\n",
       "      <th>Date</th>\n",
       "      <th>Close</th>\n",
       "      <th>High</th>\n",
       "      <th>Low</th>\n",
       "      <th>Open</th>\n",
       "      <th>Volume</th>\n",
       "    </tr>\n",
       "  </thead>\n",
       "  <tbody>\n",
       "    <tr>\n",
       "      <th>0</th>\n",
       "      <td>2014-08-15</td>\n",
       "      <td>21.673101</td>\n",
       "      <td>21.719553</td>\n",
       "      <td>21.425358</td>\n",
       "      <td>21.655405</td>\n",
       "      <td>195804000</td>\n",
       "    </tr>\n",
       "    <tr>\n",
       "      <th>1</th>\n",
       "      <td>2014-08-18</td>\n",
       "      <td>21.934120</td>\n",
       "      <td>21.980572</td>\n",
       "      <td>21.673105</td>\n",
       "      <td>21.785915</td>\n",
       "      <td>190288000</td>\n",
       "    </tr>\n",
       "    <tr>\n",
       "      <th>2</th>\n",
       "      <td>2014-08-19</td>\n",
       "      <td>22.237152</td>\n",
       "      <td>22.270332</td>\n",
       "      <td>21.969501</td>\n",
       "      <td>21.989410</td>\n",
       "      <td>277596000</td>\n",
       "    </tr>\n",
       "    <tr>\n",
       "      <th>3</th>\n",
       "      <td>2014-08-20</td>\n",
       "      <td>22.246008</td>\n",
       "      <td>22.361031</td>\n",
       "      <td>22.108864</td>\n",
       "      <td>22.217253</td>\n",
       "      <td>210796000</td>\n",
       "    </tr>\n",
       "    <tr>\n",
       "      <th>4</th>\n",
       "      <td>2014-08-21</td>\n",
       "      <td>22.248222</td>\n",
       "      <td>22.327854</td>\n",
       "      <td>22.144258</td>\n",
       "      <td>22.246010</td>\n",
       "      <td>133912000</td>\n",
       "    </tr>\n",
       "    <tr>\n",
       "      <th>...</th>\n",
       "      <td>...</td>\n",
       "      <td>...</td>\n",
       "      <td>...</td>\n",
       "      <td>...</td>\n",
       "      <td>...</td>\n",
       "      <td>...</td>\n",
       "    </tr>\n",
       "    <tr>\n",
       "      <th>2511</th>\n",
       "      <td>2024-08-08</td>\n",
       "      <td>212.317062</td>\n",
       "      <td>213.202919</td>\n",
       "      <td>207.857921</td>\n",
       "      <td>212.117996</td>\n",
       "      <td>47161100</td>\n",
       "    </tr>\n",
       "    <tr>\n",
       "      <th>2512</th>\n",
       "      <td>2024-08-09</td>\n",
       "      <td>215.233429</td>\n",
       "      <td>215.770909</td>\n",
       "      <td>210.983301</td>\n",
       "      <td>211.112701</td>\n",
       "      <td>42201600</td>\n",
       "    </tr>\n",
       "    <tr>\n",
       "      <th>2513</th>\n",
       "      <td>2024-08-12</td>\n",
       "      <td>216.768036</td>\n",
       "      <td>218.741096</td>\n",
       "      <td>214.844804</td>\n",
       "      <td>215.313158</td>\n",
       "      <td>38028100</td>\n",
       "    </tr>\n",
       "    <tr>\n",
       "      <th>2514</th>\n",
       "      <td>2024-08-13</td>\n",
       "      <td>220.494934</td>\n",
       "      <td>221.112757</td>\n",
       "      <td>218.242841</td>\n",
       "      <td>218.242841</td>\n",
       "      <td>44155300</td>\n",
       "    </tr>\n",
       "    <tr>\n",
       "      <th>2515</th>\n",
       "      <td>2024-08-14</td>\n",
       "      <td>220.943359</td>\n",
       "      <td>222.248768</td>\n",
       "      <td>218.930431</td>\n",
       "      <td>219.797394</td>\n",
       "      <td>41960600</td>\n",
       "    </tr>\n",
       "  </tbody>\n",
       "</table>\n",
       "<p>2516 rows × 6 columns</p>\n",
       "</div>"
      ],
      "text/plain": [
       "           Date       Close        High         Low        Open     Volume\n",
       "0    2014-08-15   21.673101   21.719553   21.425358   21.655405  195804000\n",
       "1    2014-08-18   21.934120   21.980572   21.673105   21.785915  190288000\n",
       "2    2014-08-19   22.237152   22.270332   21.969501   21.989410  277596000\n",
       "3    2014-08-20   22.246008   22.361031   22.108864   22.217253  210796000\n",
       "4    2014-08-21   22.248222   22.327854   22.144258   22.246010  133912000\n",
       "...         ...         ...         ...         ...         ...        ...\n",
       "2511 2024-08-08  212.317062  213.202919  207.857921  212.117996   47161100\n",
       "2512 2024-08-09  215.233429  215.770909  210.983301  211.112701   42201600\n",
       "2513 2024-08-12  216.768036  218.741096  214.844804  215.313158   38028100\n",
       "2514 2024-08-13  220.494934  221.112757  218.242841  218.242841   44155300\n",
       "2515 2024-08-14  220.943359  222.248768  218.930431  219.797394   41960600\n",
       "\n",
       "[2516 rows x 6 columns]"
      ]
     },
     "execution_count": 35,
     "metadata": {},
     "output_type": "execute_result"
    }
   ],
   "source": [
    "import yfinance as yf\n",
    "import pandas as pd\n",
    "import numpy as np\n",
    "import matplotlib.pyplot as plt\n",
    "data = yf.download(\"AAPL\", start=\"2014-08-15\", end=\"2024-08-15\", multi_level_index=False)\n",
    "data = data.reset_index()\n",
    "data"
   ]
  },
  {
   "cell_type": "markdown",
   "id": "5960aa5b",
   "metadata": {},
   "source": [
    "# 2.Data processing\n",
    "making the data available for LSTM model"
   ]
  },
  {
   "cell_type": "code",
   "execution_count": 36,
   "id": "ad810494",
   "metadata": {},
   "outputs": [
    {
     "name": "stdout",
     "output_type": "stream",
     "text": [
      "<class 'pandas.core.frame.DataFrame'>\n",
      "RangeIndex: 2516 entries, 0 to 2515\n",
      "Data columns (total 6 columns):\n",
      " #   Column  Non-Null Count  Dtype         \n",
      "---  ------  --------------  -----         \n",
      " 0   Date    2516 non-null   datetime64[ns]\n",
      " 1   Close   2516 non-null   float64       \n",
      " 2   High    2516 non-null   float64       \n",
      " 3   Low     2516 non-null   float64       \n",
      " 4   Open    2516 non-null   float64       \n",
      " 5   Volume  2516 non-null   int64         \n",
      "dtypes: datetime64[ns](1), float64(4), int64(1)\n",
      "memory usage: 118.1 KB\n"
     ]
    }
   ],
   "source": [
    "data.info()"
   ]
  },
  {
   "cell_type": "code",
   "execution_count": 37,
   "id": "4709565e",
   "metadata": {},
   "outputs": [],
   "source": [
    "data.set_index(\"Date\",inplace =True)"
   ]
  },
  {
   "cell_type": "code",
   "execution_count": 38,
   "id": "453c8f1e",
   "metadata": {},
   "outputs": [
    {
     "name": "stdout",
     "output_type": "stream",
     "text": [
      "<class 'pandas.core.frame.DataFrame'>\n",
      "DatetimeIndex: 2516 entries, 2014-08-15 to 2024-08-14\n",
      "Data columns (total 5 columns):\n",
      " #   Column  Non-Null Count  Dtype  \n",
      "---  ------  --------------  -----  \n",
      " 0   Close   2516 non-null   float64\n",
      " 1   High    2516 non-null   float64\n",
      " 2   Low     2516 non-null   float64\n",
      " 3   Open    2516 non-null   float64\n",
      " 4   Volume  2516 non-null   int64  \n",
      "dtypes: float64(4), int64(1)\n",
      "memory usage: 117.9 KB\n"
     ]
    }
   ],
   "source": [
    "data.info()\n",
    "data = data[[\"Close\"]]"
   ]
  },
  {
   "cell_type": "markdown",
   "id": "69d97660",
   "metadata": {},
   "source": [
    "# 3. Data normalization"
   ]
  },
  {
   "cell_type": "code",
   "execution_count": 39,
   "id": "ba3ebe2b",
   "metadata": {},
   "outputs": [
    {
     "data": {
      "text/plain": [
       "array([[-1.05923267],\n",
       "       [-1.05494301],\n",
       "       [-1.04996289],\n",
       "       ...,\n",
       "       [ 2.14701744],\n",
       "       [ 2.20826643],\n",
       "       [ 2.21563599]])"
      ]
     },
     "execution_count": 39,
     "metadata": {},
     "output_type": "execute_result"
    }
   ],
   "source": [
    "from sklearn.preprocessing import StandardScaler, MinMaxScaler\n",
    "\n",
    "scalar = StandardScaler() # change to StandardScalar to get another model\n",
    "scalar_value = scalar.fit_transform(data.values.reshape(-1,1))\n",
    "scalar_value"
   ]
  },
  {
   "cell_type": "code",
   "execution_count": 40,
   "id": "5c1441a2",
   "metadata": {},
   "outputs": [
    {
     "data": {
      "text/html": [
       "<div>\n",
       "<style scoped>\n",
       "    .dataframe tbody tr th:only-of-type {\n",
       "        vertical-align: middle;\n",
       "    }\n",
       "\n",
       "    .dataframe tbody tr th {\n",
       "        vertical-align: top;\n",
       "    }\n",
       "\n",
       "    .dataframe thead th {\n",
       "        text-align: right;\n",
       "    }\n",
       "</style>\n",
       "<table border=\"1\" class=\"dataframe\">\n",
       "  <thead>\n",
       "    <tr style=\"text-align: right;\">\n",
       "      <th></th>\n",
       "      <th>Close</th>\n",
       "    </tr>\n",
       "    <tr>\n",
       "      <th>Date</th>\n",
       "      <th></th>\n",
       "    </tr>\n",
       "  </thead>\n",
       "  <tbody>\n",
       "    <tr>\n",
       "      <th>2014-08-15</th>\n",
       "      <td>-1.059233</td>\n",
       "    </tr>\n",
       "    <tr>\n",
       "      <th>2014-08-18</th>\n",
       "      <td>-1.054943</td>\n",
       "    </tr>\n",
       "    <tr>\n",
       "      <th>2014-08-19</th>\n",
       "      <td>-1.049963</td>\n",
       "    </tr>\n",
       "    <tr>\n",
       "      <th>2014-08-20</th>\n",
       "      <td>-1.049817</td>\n",
       "    </tr>\n",
       "    <tr>\n",
       "      <th>2014-08-21</th>\n",
       "      <td>-1.049781</td>\n",
       "    </tr>\n",
       "    <tr>\n",
       "      <th>...</th>\n",
       "      <td>...</td>\n",
       "    </tr>\n",
       "    <tr>\n",
       "      <th>2024-08-08</th>\n",
       "      <td>2.073869</td>\n",
       "    </tr>\n",
       "    <tr>\n",
       "      <th>2024-08-09</th>\n",
       "      <td>2.121797</td>\n",
       "    </tr>\n",
       "    <tr>\n",
       "      <th>2024-08-12</th>\n",
       "      <td>2.147017</td>\n",
       "    </tr>\n",
       "    <tr>\n",
       "      <th>2024-08-13</th>\n",
       "      <td>2.208266</td>\n",
       "    </tr>\n",
       "    <tr>\n",
       "      <th>2024-08-14</th>\n",
       "      <td>2.215636</td>\n",
       "    </tr>\n",
       "  </tbody>\n",
       "</table>\n",
       "<p>2516 rows × 1 columns</p>\n",
       "</div>"
      ],
      "text/plain": [
       "               Close\n",
       "Date                \n",
       "2014-08-15 -1.059233\n",
       "2014-08-18 -1.054943\n",
       "2014-08-19 -1.049963\n",
       "2014-08-20 -1.049817\n",
       "2014-08-21 -1.049781\n",
       "...              ...\n",
       "2024-08-08  2.073869\n",
       "2024-08-09  2.121797\n",
       "2024-08-12  2.147017\n",
       "2024-08-13  2.208266\n",
       "2024-08-14  2.215636\n",
       "\n",
       "[2516 rows x 1 columns]"
      ]
     },
     "execution_count": 40,
     "metadata": {},
     "output_type": "execute_result"
    }
   ],
   "source": [
    "df_scalar = pd.DataFrame(scalar_value, index = data.index, columns=[\"Close\"])\n",
    "df_scalar"
   ]
  },
  {
   "cell_type": "markdown",
   "id": "e0c3a644",
   "metadata": {},
   "source": [
    "# 4. Creating the sliding window sequence"
   ]
  },
  {
   "cell_type": "code",
   "execution_count": 41,
   "id": "d3875f0b",
   "metadata": {},
   "outputs": [],
   "source": [
    "import numpy as np\n",
    "def create_sequence(data, look_back):\n",
    "    x, y = [], []\n",
    "    for i in range(look_back, len(data)):\n",
    "        x.append(data.iloc[i - look_back:i].values)\n",
    "        y.append(data.iloc[i].values)\n",
    "    return np.array(x), np.array(y)\n",
    "\n"
   ]
  },
  {
   "cell_type": "code",
   "execution_count": 42,
   "id": "de1394ff",
   "metadata": {},
   "outputs": [
    {
     "data": {
      "text/plain": [
       "((2456, 60, 1), (2456, 1))"
      ]
     },
     "execution_count": 42,
     "metadata": {},
     "output_type": "execute_result"
    }
   ],
   "source": [
    "lb = 60\n",
    "X, y = create_sequence(df_scalar, lb)\n",
    "X.shape , y.shape"
   ]
  },
  {
   "cell_type": "markdown",
   "id": "8c354c27",
   "metadata": {},
   "source": [
    "# 5. Train - test Split"
   ]
  },
  {
   "cell_type": "code",
   "execution_count": 43,
   "id": "c742925b",
   "metadata": {},
   "outputs": [
    {
     "data": {
      "text/plain": [
       "((1964, 60, 1), (492, 60, 1))"
      ]
     },
     "execution_count": 43,
     "metadata": {},
     "output_type": "execute_result"
    }
   ],
   "source": [
    "from sklearn.model_selection import train_test_split\n",
    "X_train, x_test, Y_train, y_test = train_test_split(X,y ,test_size=0.2 , random_state=42)\n",
    "X_train.shape, x_test.shape"
   ]
  },
  {
   "cell_type": "code",
   "execution_count": 44,
   "id": "271ad52c",
   "metadata": {},
   "outputs": [
    {
     "name": "stderr",
     "output_type": "stream",
     "text": [
      "c:\\Users\\lcy20\\anaconda3\\envs\\git3.10\\lib\\site-packages\\keras\\src\\layers\\rnn\\rnn.py:199: UserWarning: Do not pass an `input_shape`/`input_dim` argument to a layer. When using Sequential models, prefer using an `Input(shape)` object as the first layer in the model instead.\n",
      "  super().__init__(**kwargs)\n"
     ]
    }
   ],
   "source": [
    "from keras.models import Sequential\n",
    "from keras.layers import LSTM, Dense, Dropout, BatchNormalization\n",
    "\n",
    "model = Sequential()\n",
    "model.add(LSTM(24, return_sequences=True, input_shape=(X_train.shape[1], X_train.shape[2])))\n",
    "model.add(BatchNormalization())\n",
    "model.add(Dropout(0.2))\n",
    "model.add(LSTM(16, return_sequences=False))\n",
    "\n",
    "model.add(Dense(Y_train.shape[1]))\n",
    "model.compile(optimizer=\"adam\", loss='mse', metrics = ['RootMeanSquaredError'])\n"
   ]
  },
  {
   "cell_type": "code",
   "execution_count": 45,
   "id": "3259b896",
   "metadata": {},
   "outputs": [],
   "source": [
    "# early stopping\n",
    "from keras.callbacks import EarlyStopping\n",
    "earlystop = EarlyStopping(monitor = 'val_loss', patience = 20, restore_best_weights=True)"
   ]
  },
  {
   "cell_type": "code",
   "execution_count": 47,
   "id": "72059e83",
   "metadata": {},
   "outputs": [
    {
     "name": "stdout",
     "output_type": "stream",
     "text": [
      "Epoch 1/100\n",
      "\u001b[1m295/295\u001b[0m \u001b[32m━━━━━━━━━━━━━━━━━━━━\u001b[0m\u001b[37m\u001b[0m \u001b[1m4s\u001b[0m 14ms/step - RootMeanSquaredError: 0.1229 - loss: 0.0151 - val_RootMeanSquaredError: 0.0860 - val_loss: 0.0074\n",
      "Epoch 2/100\n",
      "\u001b[1m295/295\u001b[0m \u001b[32m━━━━━━━━━━━━━━━━━━━━\u001b[0m\u001b[37m\u001b[0m \u001b[1m4s\u001b[0m 15ms/step - RootMeanSquaredError: 0.1105 - loss: 0.0123 - val_RootMeanSquaredError: 0.0817 - val_loss: 0.0067\n",
      "Epoch 3/100\n",
      "\u001b[1m295/295\u001b[0m \u001b[32m━━━━━━━━━━━━━━━━━━━━\u001b[0m\u001b[37m\u001b[0m \u001b[1m4s\u001b[0m 15ms/step - RootMeanSquaredError: 0.1100 - loss: 0.0121 - val_RootMeanSquaredError: 0.1277 - val_loss: 0.0163\n",
      "Epoch 4/100\n",
      "\u001b[1m295/295\u001b[0m \u001b[32m━━━━━━━━━━━━━━━━━━━━\u001b[0m\u001b[37m\u001b[0m \u001b[1m5s\u001b[0m 15ms/step - RootMeanSquaredError: 0.1130 - loss: 0.0128 - val_RootMeanSquaredError: 0.0617 - val_loss: 0.0038\n",
      "Epoch 5/100\n",
      "\u001b[1m295/295\u001b[0m \u001b[32m━━━━━━━━━━━━━━━━━━━━\u001b[0m\u001b[37m\u001b[0m \u001b[1m4s\u001b[0m 14ms/step - RootMeanSquaredError: 0.1075 - loss: 0.0116 - val_RootMeanSquaredError: 0.1068 - val_loss: 0.0114\n",
      "Epoch 6/100\n",
      "\u001b[1m295/295\u001b[0m \u001b[32m━━━━━━━━━━━━━━━━━━━━\u001b[0m\u001b[37m\u001b[0m \u001b[1m7s\u001b[0m 25ms/step - RootMeanSquaredError: 0.0954 - loss: 0.0091 - val_RootMeanSquaredError: 0.1211 - val_loss: 0.0147\n",
      "Epoch 7/100\n",
      "\u001b[1m295/295\u001b[0m \u001b[32m━━━━━━━━━━━━━━━━━━━━\u001b[0m\u001b[37m\u001b[0m \u001b[1m10s\u001b[0m 24ms/step - RootMeanSquaredError: 0.0958 - loss: 0.0092 - val_RootMeanSquaredError: 0.0779 - val_loss: 0.0061\n",
      "Epoch 8/100\n",
      "\u001b[1m295/295\u001b[0m \u001b[32m━━━━━━━━━━━━━━━━━━━━\u001b[0m\u001b[37m\u001b[0m \u001b[1m7s\u001b[0m 24ms/step - RootMeanSquaredError: 0.0919 - loss: 0.0085 - val_RootMeanSquaredError: 0.1242 - val_loss: 0.0154\n",
      "Epoch 9/100\n",
      "\u001b[1m295/295\u001b[0m \u001b[32m━━━━━━━━━━━━━━━━━━━━\u001b[0m\u001b[37m\u001b[0m \u001b[1m11s\u001b[0m 24ms/step - RootMeanSquaredError: 0.0957 - loss: 0.0092 - val_RootMeanSquaredError: 0.0984 - val_loss: 0.0097\n",
      "Epoch 10/100\n",
      "\u001b[1m295/295\u001b[0m \u001b[32m━━━━━━━━━━━━━━━━━━━━\u001b[0m\u001b[37m\u001b[0m \u001b[1m10s\u001b[0m 25ms/step - RootMeanSquaredError: 0.0918 - loss: 0.0085 - val_RootMeanSquaredError: 0.0789 - val_loss: 0.0062\n",
      "Epoch 11/100\n",
      "\u001b[1m295/295\u001b[0m \u001b[32m━━━━━━━━━━━━━━━━━━━━\u001b[0m\u001b[37m\u001b[0m \u001b[1m7s\u001b[0m 24ms/step - RootMeanSquaredError: 0.0848 - loss: 0.0072 - val_RootMeanSquaredError: 0.0640 - val_loss: 0.0041\n",
      "Epoch 12/100\n",
      "\u001b[1m295/295\u001b[0m \u001b[32m━━━━━━━━━━━━━━━━━━━━\u001b[0m\u001b[37m\u001b[0m \u001b[1m7s\u001b[0m 24ms/step - RootMeanSquaredError: 0.0987 - loss: 0.0098 - val_RootMeanSquaredError: 0.0669 - val_loss: 0.0045\n",
      "Epoch 13/100\n",
      "\u001b[1m295/295\u001b[0m \u001b[32m━━━━━━━━━━━━━━━━━━━━\u001b[0m\u001b[37m\u001b[0m \u001b[1m8s\u001b[0m 27ms/step - RootMeanSquaredError: 0.0848 - loss: 0.0072 - val_RootMeanSquaredError: 0.0772 - val_loss: 0.0060\n",
      "Epoch 14/100\n",
      "\u001b[1m295/295\u001b[0m \u001b[32m━━━━━━━━━━━━━━━━━━━━\u001b[0m\u001b[37m\u001b[0m \u001b[1m7s\u001b[0m 22ms/step - RootMeanSquaredError: 0.0922 - loss: 0.0085 - val_RootMeanSquaredError: 0.0669 - val_loss: 0.0045\n",
      "Epoch 15/100\n",
      "\u001b[1m295/295\u001b[0m \u001b[32m━━━━━━━━━━━━━━━━━━━━\u001b[0m\u001b[37m\u001b[0m \u001b[1m4s\u001b[0m 15ms/step - RootMeanSquaredError: 0.1048 - loss: 0.0113 - val_RootMeanSquaredError: 0.0576 - val_loss: 0.0033\n",
      "Epoch 16/100\n",
      "\u001b[1m295/295\u001b[0m \u001b[32m━━━━━━━━━━━━━━━━━━━━\u001b[0m\u001b[37m\u001b[0m \u001b[1m6s\u001b[0m 19ms/step - RootMeanSquaredError: 0.0867 - loss: 0.0075 - val_RootMeanSquaredError: 0.0546 - val_loss: 0.0030\n",
      "Epoch 17/100\n",
      "\u001b[1m295/295\u001b[0m \u001b[32m━━━━━━━━━━━━━━━━━━━━\u001b[0m\u001b[37m\u001b[0m \u001b[1m7s\u001b[0m 23ms/step - RootMeanSquaredError: 0.0823 - loss: 0.0068 - val_RootMeanSquaredError: 0.0654 - val_loss: 0.0043\n",
      "Epoch 18/100\n",
      "\u001b[1m295/295\u001b[0m \u001b[32m━━━━━━━━━━━━━━━━━━━━\u001b[0m\u001b[37m\u001b[0m \u001b[1m10s\u001b[0m 24ms/step - RootMeanSquaredError: 0.0796 - loss: 0.0064 - val_RootMeanSquaredError: 0.0546 - val_loss: 0.0030\n",
      "Epoch 19/100\n",
      "\u001b[1m295/295\u001b[0m \u001b[32m━━━━━━━━━━━━━━━━━━━━\u001b[0m\u001b[37m\u001b[0m \u001b[1m10s\u001b[0m 21ms/step - RootMeanSquaredError: 0.0795 - loss: 0.0063 - val_RootMeanSquaredError: 0.0616 - val_loss: 0.0038\n",
      "Epoch 20/100\n",
      "\u001b[1m295/295\u001b[0m \u001b[32m━━━━━━━━━━━━━━━━━━━━\u001b[0m\u001b[37m\u001b[0m \u001b[1m10s\u001b[0m 21ms/step - RootMeanSquaredError: 0.0801 - loss: 0.0064 - val_RootMeanSquaredError: 0.0570 - val_loss: 0.0032\n",
      "Epoch 21/100\n",
      "\u001b[1m295/295\u001b[0m \u001b[32m━━━━━━━━━━━━━━━━━━━━\u001b[0m\u001b[37m\u001b[0m \u001b[1m10s\u001b[0m 22ms/step - RootMeanSquaredError: 0.0764 - loss: 0.0058 - val_RootMeanSquaredError: 0.0724 - val_loss: 0.0052\n",
      "Epoch 22/100\n",
      "\u001b[1m295/295\u001b[0m \u001b[32m━━━━━━━━━━━━━━━━━━━━\u001b[0m\u001b[37m\u001b[0m \u001b[1m7s\u001b[0m 23ms/step - RootMeanSquaredError: 0.0744 - loss: 0.0056 - val_RootMeanSquaredError: 0.0534 - val_loss: 0.0029\n",
      "Epoch 23/100\n",
      "\u001b[1m295/295\u001b[0m \u001b[32m━━━━━━━━━━━━━━━━━━━━\u001b[0m\u001b[37m\u001b[0m \u001b[1m7s\u001b[0m 13ms/step - RootMeanSquaredError: 0.0781 - loss: 0.0061 - val_RootMeanSquaredError: 0.0820 - val_loss: 0.0067\n",
      "Epoch 24/100\n",
      "\u001b[1m295/295\u001b[0m \u001b[32m━━━━━━━━━━━━━━━━━━━━\u001b[0m\u001b[37m\u001b[0m \u001b[1m4s\u001b[0m 13ms/step - RootMeanSquaredError: 0.0759 - loss: 0.0058 - val_RootMeanSquaredError: 0.0492 - val_loss: 0.0024\n",
      "Epoch 25/100\n",
      "\u001b[1m295/295\u001b[0m \u001b[32m━━━━━━━━━━━━━━━━━━━━\u001b[0m\u001b[37m\u001b[0m \u001b[1m5s\u001b[0m 16ms/step - RootMeanSquaredError: 0.0675 - loss: 0.0046 - val_RootMeanSquaredError: 0.0536 - val_loss: 0.0029\n",
      "Epoch 26/100\n",
      "\u001b[1m295/295\u001b[0m \u001b[32m━━━━━━━━━━━━━━━━━━━━\u001b[0m\u001b[37m\u001b[0m \u001b[1m7s\u001b[0m 21ms/step - RootMeanSquaredError: 0.0712 - loss: 0.0051 - val_RootMeanSquaredError: 0.0702 - val_loss: 0.0049\n",
      "Epoch 27/100\n",
      "\u001b[1m295/295\u001b[0m \u001b[32m━━━━━━━━━━━━━━━━━━━━\u001b[0m\u001b[37m\u001b[0m \u001b[1m10s\u001b[0m 21ms/step - RootMeanSquaredError: 0.0699 - loss: 0.0049 - val_RootMeanSquaredError: 0.0540 - val_loss: 0.0029\n",
      "Epoch 28/100\n",
      "\u001b[1m295/295\u001b[0m \u001b[32m━━━━━━━━━━━━━━━━━━━━\u001b[0m\u001b[37m\u001b[0m \u001b[1m6s\u001b[0m 22ms/step - RootMeanSquaredError: 0.0706 - loss: 0.0050 - val_RootMeanSquaredError: 0.0658 - val_loss: 0.0043\n",
      "Epoch 29/100\n",
      "\u001b[1m295/295\u001b[0m \u001b[32m━━━━━━━━━━━━━━━━━━━━\u001b[0m\u001b[37m\u001b[0m \u001b[1m11s\u001b[0m 23ms/step - RootMeanSquaredError: 0.0676 - loss: 0.0046 - val_RootMeanSquaredError: 0.0907 - val_loss: 0.0082\n",
      "Epoch 30/100\n",
      "\u001b[1m295/295\u001b[0m \u001b[32m━━━━━━━━━━━━━━━━━━━━\u001b[0m\u001b[37m\u001b[0m \u001b[1m8s\u001b[0m 14ms/step - RootMeanSquaredError: 0.0780 - loss: 0.0061 - val_RootMeanSquaredError: 0.0614 - val_loss: 0.0038\n",
      "Epoch 31/100\n",
      "\u001b[1m295/295\u001b[0m \u001b[32m━━━━━━━━━━━━━━━━━━━━\u001b[0m\u001b[37m\u001b[0m \u001b[1m4s\u001b[0m 14ms/step - RootMeanSquaredError: 0.0732 - loss: 0.0054 - val_RootMeanSquaredError: 0.0559 - val_loss: 0.0031\n",
      "Epoch 32/100\n",
      "\u001b[1m295/295\u001b[0m \u001b[32m━━━━━━━━━━━━━━━━━━━━\u001b[0m\u001b[37m\u001b[0m \u001b[1m4s\u001b[0m 14ms/step - RootMeanSquaredError: 0.0671 - loss: 0.0045 - val_RootMeanSquaredError: 0.0533 - val_loss: 0.0028\n",
      "Epoch 33/100\n",
      "\u001b[1m295/295\u001b[0m \u001b[32m━━━━━━━━━━━━━━━━━━━━\u001b[0m\u001b[37m\u001b[0m \u001b[1m4s\u001b[0m 14ms/step - RootMeanSquaredError: 0.0617 - loss: 0.0038 - val_RootMeanSquaredError: 0.0488 - val_loss: 0.0024\n",
      "Epoch 34/100\n",
      "\u001b[1m295/295\u001b[0m \u001b[32m━━━━━━━━━━━━━━━━━━━━\u001b[0m\u001b[37m\u001b[0m \u001b[1m4s\u001b[0m 14ms/step - RootMeanSquaredError: 0.0628 - loss: 0.0040 - val_RootMeanSquaredError: 0.0574 - val_loss: 0.0033\n",
      "Epoch 35/100\n",
      "\u001b[1m295/295\u001b[0m \u001b[32m━━━━━━━━━━━━━━━━━━━━\u001b[0m\u001b[37m\u001b[0m \u001b[1m4s\u001b[0m 15ms/step - RootMeanSquaredError: 0.0646 - loss: 0.0042 - val_RootMeanSquaredError: 0.0519 - val_loss: 0.0027\n",
      "Epoch 36/100\n",
      "\u001b[1m295/295\u001b[0m \u001b[32m━━━━━━━━━━━━━━━━━━━━\u001b[0m\u001b[37m\u001b[0m \u001b[1m4s\u001b[0m 15ms/step - RootMeanSquaredError: 0.0928 - loss: 0.0101 - val_RootMeanSquaredError: 0.1105 - val_loss: 0.0122\n",
      "Epoch 37/100\n",
      "\u001b[1m295/295\u001b[0m \u001b[32m━━━━━━━━━━━━━━━━━━━━\u001b[0m\u001b[37m\u001b[0m \u001b[1m4s\u001b[0m 14ms/step - RootMeanSquaredError: 0.1437 - loss: 0.0207 - val_RootMeanSquaredError: 0.1167 - val_loss: 0.0136\n",
      "Epoch 38/100\n",
      "\u001b[1m295/295\u001b[0m \u001b[32m━━━━━━━━━━━━━━━━━━━━\u001b[0m\u001b[37m\u001b[0m \u001b[1m6s\u001b[0m 19ms/step - RootMeanSquaredError: 0.1093 - loss: 0.0120 - val_RootMeanSquaredError: 0.1006 - val_loss: 0.0101\n",
      "Epoch 39/100\n",
      "\u001b[1m295/295\u001b[0m \u001b[32m━━━━━━━━━━━━━━━━━━━━\u001b[0m\u001b[37m\u001b[0m \u001b[1m7s\u001b[0m 23ms/step - RootMeanSquaredError: 0.1053 - loss: 0.0111 - val_RootMeanSquaredError: 0.0762 - val_loss: 0.0058\n",
      "Epoch 40/100\n",
      "\u001b[1m295/295\u001b[0m \u001b[32m━━━━━━━━━━━━━━━━━━━━\u001b[0m\u001b[37m\u001b[0m \u001b[1m10s\u001b[0m 23ms/step - RootMeanSquaredError: 0.1040 - loss: 0.0109 - val_RootMeanSquaredError: 0.0611 - val_loss: 0.0037\n",
      "Epoch 41/100\n",
      "\u001b[1m295/295\u001b[0m \u001b[32m━━━━━━━━━━━━━━━━━━━━\u001b[0m\u001b[37m\u001b[0m \u001b[1m4s\u001b[0m 15ms/step - RootMeanSquaredError: 0.0914 - loss: 0.0084 - val_RootMeanSquaredError: 0.0544 - val_loss: 0.0030\n",
      "Epoch 42/100\n",
      "\u001b[1m295/295\u001b[0m \u001b[32m━━━━━━━━━━━━━━━━━━━━\u001b[0m\u001b[37m\u001b[0m \u001b[1m4s\u001b[0m 15ms/step - RootMeanSquaredError: 0.0848 - loss: 0.0072 - val_RootMeanSquaredError: 0.0539 - val_loss: 0.0029\n",
      "Epoch 43/100\n",
      "\u001b[1m295/295\u001b[0m \u001b[32m━━━━━━━━━━━━━━━━━━━━\u001b[0m\u001b[37m\u001b[0m \u001b[1m5s\u001b[0m 15ms/step - RootMeanSquaredError: 0.0804 - loss: 0.0065 - val_RootMeanSquaredError: 0.0616 - val_loss: 0.0038\n",
      "Epoch 44/100\n",
      "\u001b[1m295/295\u001b[0m \u001b[32m━━━━━━━━━━━━━━━━━━━━\u001b[0m\u001b[37m\u001b[0m \u001b[1m5s\u001b[0m 16ms/step - RootMeanSquaredError: 0.0721 - loss: 0.0052 - val_RootMeanSquaredError: 0.0518 - val_loss: 0.0027\n",
      "Epoch 45/100\n",
      "\u001b[1m295/295\u001b[0m \u001b[32m━━━━━━━━━━━━━━━━━━━━\u001b[0m\u001b[37m\u001b[0m \u001b[1m5s\u001b[0m 15ms/step - RootMeanSquaredError: 0.0777 - loss: 0.0061 - val_RootMeanSquaredError: 0.0590 - val_loss: 0.0035\n",
      "Epoch 46/100\n",
      "\u001b[1m295/295\u001b[0m \u001b[32m━━━━━━━━━━━━━━━━━━━━\u001b[0m\u001b[37m\u001b[0m \u001b[1m5s\u001b[0m 15ms/step - RootMeanSquaredError: 0.0737 - loss: 0.0054 - val_RootMeanSquaredError: 0.0575 - val_loss: 0.0033\n",
      "Epoch 47/100\n",
      "\u001b[1m295/295\u001b[0m \u001b[32m━━━━━━━━━━━━━━━━━━━━\u001b[0m\u001b[37m\u001b[0m \u001b[1m5s\u001b[0m 15ms/step - RootMeanSquaredError: 0.0675 - loss: 0.0046 - val_RootMeanSquaredError: 0.0456 - val_loss: 0.0021\n",
      "Epoch 48/100\n",
      "\u001b[1m295/295\u001b[0m \u001b[32m━━━━━━━━━━━━━━━━━━━━\u001b[0m\u001b[37m\u001b[0m \u001b[1m4s\u001b[0m 15ms/step - RootMeanSquaredError: 0.0709 - loss: 0.0051 - val_RootMeanSquaredError: 0.0573 - val_loss: 0.0033\n",
      "Epoch 49/100\n",
      "\u001b[1m295/295\u001b[0m \u001b[32m━━━━━━━━━━━━━━━━━━━━\u001b[0m\u001b[37m\u001b[0m \u001b[1m4s\u001b[0m 14ms/step - RootMeanSquaredError: 0.0714 - loss: 0.0051 - val_RootMeanSquaredError: 0.0489 - val_loss: 0.0024\n",
      "Epoch 50/100\n",
      "\u001b[1m295/295\u001b[0m \u001b[32m━━━━━━━━━━━━━━━━━━━━\u001b[0m\u001b[37m\u001b[0m \u001b[1m4s\u001b[0m 14ms/step - RootMeanSquaredError: 0.0679 - loss: 0.0046 - val_RootMeanSquaredError: 0.0488 - val_loss: 0.0024\n",
      "Epoch 51/100\n",
      "\u001b[1m295/295\u001b[0m \u001b[32m━━━━━━━━━━━━━━━━━━━━\u001b[0m\u001b[37m\u001b[0m \u001b[1m4s\u001b[0m 15ms/step - RootMeanSquaredError: 0.0676 - loss: 0.0046 - val_RootMeanSquaredError: 0.0560 - val_loss: 0.0031\n",
      "Epoch 52/100\n",
      "\u001b[1m295/295\u001b[0m \u001b[32m━━━━━━━━━━━━━━━━━━━━\u001b[0m\u001b[37m\u001b[0m \u001b[1m4s\u001b[0m 15ms/step - RootMeanSquaredError: 0.0812 - loss: 0.0066 - val_RootMeanSquaredError: 0.0566 - val_loss: 0.0032\n",
      "Epoch 53/100\n",
      "\u001b[1m295/295\u001b[0m \u001b[32m━━━━━━━━━━━━━━━━━━━━\u001b[0m\u001b[37m\u001b[0m \u001b[1m5s\u001b[0m 15ms/step - RootMeanSquaredError: 0.0739 - loss: 0.0055 - val_RootMeanSquaredError: 0.0512 - val_loss: 0.0026\n",
      "Epoch 54/100\n",
      "\u001b[1m295/295\u001b[0m \u001b[32m━━━━━━━━━━━━━━━━━━━━\u001b[0m\u001b[37m\u001b[0m \u001b[1m4s\u001b[0m 14ms/step - RootMeanSquaredError: 0.0650 - loss: 0.0042 - val_RootMeanSquaredError: 0.0469 - val_loss: 0.0022\n",
      "Epoch 55/100\n",
      "\u001b[1m295/295\u001b[0m \u001b[32m━━━━━━━━━━━━━━━━━━━━\u001b[0m\u001b[37m\u001b[0m \u001b[1m5s\u001b[0m 16ms/step - RootMeanSquaredError: 0.0699 - loss: 0.0049 - val_RootMeanSquaredError: 0.0446 - val_loss: 0.0020\n",
      "Epoch 56/100\n",
      "\u001b[1m295/295\u001b[0m \u001b[32m━━━━━━━━━━━━━━━━━━━━\u001b[0m\u001b[37m\u001b[0m \u001b[1m5s\u001b[0m 16ms/step - RootMeanSquaredError: 0.0620 - loss: 0.0039 - val_RootMeanSquaredError: 0.0612 - val_loss: 0.0037\n",
      "Epoch 57/100\n",
      "\u001b[1m295/295\u001b[0m \u001b[32m━━━━━━━━━━━━━━━━━━━━\u001b[0m\u001b[37m\u001b[0m \u001b[1m5s\u001b[0m 15ms/step - RootMeanSquaredError: 0.0602 - loss: 0.0036 - val_RootMeanSquaredError: 0.0478 - val_loss: 0.0023\n",
      "Epoch 58/100\n",
      "\u001b[1m295/295\u001b[0m \u001b[32m━━━━━━━━━━━━━━━━━━━━\u001b[0m\u001b[37m\u001b[0m \u001b[1m7s\u001b[0m 24ms/step - RootMeanSquaredError: 0.0638 - loss: 0.0041 - val_RootMeanSquaredError: 0.0552 - val_loss: 0.0030\n",
      "Epoch 59/100\n",
      "\u001b[1m295/295\u001b[0m \u001b[32m━━━━━━━━━━━━━━━━━━━━\u001b[0m\u001b[37m\u001b[0m \u001b[1m7s\u001b[0m 24ms/step - RootMeanSquaredError: 0.0641 - loss: 0.0041 - val_RootMeanSquaredError: 0.0480 - val_loss: 0.0023\n",
      "Epoch 60/100\n",
      "\u001b[1m295/295\u001b[0m \u001b[32m━━━━━━━━━━━━━━━━━━━━\u001b[0m\u001b[37m\u001b[0m \u001b[1m7s\u001b[0m 24ms/step - RootMeanSquaredError: 0.0599 - loss: 0.0036 - val_RootMeanSquaredError: 0.0499 - val_loss: 0.0025\n",
      "Epoch 61/100\n",
      "\u001b[1m295/295\u001b[0m \u001b[32m━━━━━━━━━━━━━━━━━━━━\u001b[0m\u001b[37m\u001b[0m \u001b[1m7s\u001b[0m 23ms/step - RootMeanSquaredError: 0.0615 - loss: 0.0038 - val_RootMeanSquaredError: 0.0487 - val_loss: 0.0024\n",
      "Epoch 62/100\n",
      "\u001b[1m295/295\u001b[0m \u001b[32m━━━━━━━━━━━━━━━━━━━━\u001b[0m\u001b[37m\u001b[0m \u001b[1m10s\u001b[0m 23ms/step - RootMeanSquaredError: 0.0628 - loss: 0.0040 - val_RootMeanSquaredError: 0.0695 - val_loss: 0.0048\n",
      "Epoch 63/100\n",
      "\u001b[1m295/295\u001b[0m \u001b[32m━━━━━━━━━━━━━━━━━━━━\u001b[0m\u001b[37m\u001b[0m \u001b[1m11s\u001b[0m 24ms/step - RootMeanSquaredError: 0.0570 - loss: 0.0033 - val_RootMeanSquaredError: 0.0506 - val_loss: 0.0026\n",
      "Epoch 64/100\n",
      "\u001b[1m295/295\u001b[0m \u001b[32m━━━━━━━━━━━━━━━━━━━━\u001b[0m\u001b[37m\u001b[0m \u001b[1m10s\u001b[0m 23ms/step - RootMeanSquaredError: 0.0583 - loss: 0.0034 - val_RootMeanSquaredError: 0.0542 - val_loss: 0.0029\n",
      "Epoch 65/100\n",
      "\u001b[1m295/295\u001b[0m \u001b[32m━━━━━━━━━━━━━━━━━━━━\u001b[0m\u001b[37m\u001b[0m \u001b[1m7s\u001b[0m 22ms/step - RootMeanSquaredError: 0.0593 - loss: 0.0035 - val_RootMeanSquaredError: 0.0550 - val_loss: 0.0030\n",
      "Epoch 66/100\n",
      "\u001b[1m295/295\u001b[0m \u001b[32m━━━━━━━━━━━━━━━━━━━━\u001b[0m\u001b[37m\u001b[0m \u001b[1m11s\u001b[0m 25ms/step - RootMeanSquaredError: 0.0592 - loss: 0.0035 - val_RootMeanSquaredError: 0.0523 - val_loss: 0.0027\n",
      "Epoch 67/100\n",
      "\u001b[1m295/295\u001b[0m \u001b[32m━━━━━━━━━━━━━━━━━━━━\u001b[0m\u001b[37m\u001b[0m \u001b[1m7s\u001b[0m 22ms/step - RootMeanSquaredError: 0.0598 - loss: 0.0036 - val_RootMeanSquaredError: 0.0529 - val_loss: 0.0028\n",
      "Epoch 68/100\n",
      "\u001b[1m295/295\u001b[0m \u001b[32m━━━━━━━━━━━━━━━━━━━━\u001b[0m\u001b[37m\u001b[0m \u001b[1m6s\u001b[0m 22ms/step - RootMeanSquaredError: 0.0532 - loss: 0.0028 - val_RootMeanSquaredError: 0.0499 - val_loss: 0.0025\n",
      "Epoch 69/100\n",
      "\u001b[1m295/295\u001b[0m \u001b[32m━━━━━━━━━━━━━━━━━━━━\u001b[0m\u001b[37m\u001b[0m \u001b[1m7s\u001b[0m 23ms/step - RootMeanSquaredError: 0.0602 - loss: 0.0036 - val_RootMeanSquaredError: 0.0463 - val_loss: 0.0021\n",
      "Epoch 70/100\n",
      "\u001b[1m295/295\u001b[0m \u001b[32m━━━━━━━━━━━━━━━━━━━━\u001b[0m\u001b[37m\u001b[0m \u001b[1m11s\u001b[0m 26ms/step - RootMeanSquaredError: 0.0564 - loss: 0.0032 - val_RootMeanSquaredError: 0.0480 - val_loss: 0.0023\n",
      "Epoch 71/100\n",
      "\u001b[1m295/295\u001b[0m \u001b[32m━━━━━━━━━━━━━━━━━━━━\u001b[0m\u001b[37m\u001b[0m \u001b[1m10s\u001b[0m 25ms/step - RootMeanSquaredError: 0.0616 - loss: 0.0038 - val_RootMeanSquaredError: 0.0605 - val_loss: 0.0037\n",
      "Epoch 72/100\n",
      "\u001b[1m295/295\u001b[0m \u001b[32m━━━━━━━━━━━━━━━━━━━━\u001b[0m\u001b[37m\u001b[0m \u001b[1m10s\u001b[0m 23ms/step - RootMeanSquaredError: 0.0568 - loss: 0.0032 - val_RootMeanSquaredError: 0.0476 - val_loss: 0.0023\n",
      "Epoch 73/100\n",
      "\u001b[1m295/295\u001b[0m \u001b[32m━━━━━━━━━━━━━━━━━━━━\u001b[0m\u001b[37m\u001b[0m \u001b[1m9s\u001b[0m 17ms/step - RootMeanSquaredError: 0.0563 - loss: 0.0032 - val_RootMeanSquaredError: 0.0518 - val_loss: 0.0027\n",
      "Epoch 74/100\n",
      "\u001b[1m295/295\u001b[0m \u001b[32m━━━━━━━━━━━━━━━━━━━━\u001b[0m\u001b[37m\u001b[0m \u001b[1m4s\u001b[0m 14ms/step - RootMeanSquaredError: 0.0545 - loss: 0.0030 - val_RootMeanSquaredError: 0.0718 - val_loss: 0.0052\n",
      "Epoch 75/100\n",
      "\u001b[1m295/295\u001b[0m \u001b[32m━━━━━━━━━━━━━━━━━━━━\u001b[0m\u001b[37m\u001b[0m \u001b[1m4s\u001b[0m 15ms/step - RootMeanSquaredError: 0.0601 - loss: 0.0037 - val_RootMeanSquaredError: 0.0501 - val_loss: 0.0025\n"
     ]
    }
   ],
   "source": [
    "lstm_model = model.fit(X_train, Y_train, validation_split = 0.1, epochs = 100, batch_size=6, callbacks=[earlystop])\n",
    "model.save(\"D:\\GITHUBLSTM\\LSTM_3_Layers.keras\")"
   ]
  },
  {
   "cell_type": "code",
   "execution_count": null,
   "id": "c8fcce59",
   "metadata": {},
   "outputs": [
    {
     "name": "stdout",
     "output_type": "stream",
     "text": [
      "\u001b[1m16/16\u001b[0m \u001b[32m━━━━━━━━━━━━━━━━━━━━\u001b[0m\u001b[37m\u001b[0m \u001b[1m1s\u001b[0m 17ms/step\n"
     ]
    }
   ],
   "source": [
    "prediction = model.predict(x_test)"
   ]
  },
  {
   "cell_type": "markdown",
   "id": "cb934fd2",
   "metadata": {},
   "source": [
    "# Forecasting\n"
   ]
  },
  {
   "cell_type": "markdown",
   "id": "58728b68",
   "metadata": {},
   "source": []
  },
  {
   "cell_type": "code",
   "execution_count": null,
   "id": "014c8098",
   "metadata": {},
   "outputs": [],
   "source": [
    "prediction = scalar.inverse_transform(prediction)\n",
    "y_test_rescal = scalar.inverse_transform(y_test)"
   ]
  },
  {
   "cell_type": "code",
   "execution_count": null,
   "id": "4f4169a9",
   "metadata": {},
   "outputs": [
    {
     "data": {
      "image/png": "[encoded data removed]",
      "text/plain": [
       "<Figure size 1400x700 with 1 Axes>"
      ]
     },
     "metadata": {},
     "output_type": "display_data"
    }
   ],
   "source": [
    "plt.figure(figsize=(25,10))\n",
    "for i, col in enumerate(df_scalar.columns):\n",
    "    plt.subplot(2,3,i+1)\n",
    "    plt.plot(y_test_rescal[:,i], color='b', label=f'Actual {col}')\n",
    "    plt.plot(prediction[:,i], color='r', label=f'Predicted {col}')\n",
    "    plt.title(f'{col} Prediction')\n",
    "    plt.xlabel(\"Time\")\n",
    "    plt.ylabel(\"Price\")\n",
    "    plt.legend()\n",
    "plt.tight_layout()\n",
    "\n"
   ]
  }
 ],
 "metadata": {
  "kernelspec": {
   "display_name": "git3.10",
   "language": "python",
   "name": "python3"
  },
  "language_info": {
   "codemirror_mode": {
    "name": "ipython",
    "version": 3
   },
   "file_extension": ".py",
   "mimetype": "text/x-python",
   "name": "python",
   "nbconvert_exporter": "python",
   "pygments_lexer": "ipython3",
   "version": "3.10.18"
  }
 },
 "nbformat": 4,
 "nbformat_minor": 5
}
